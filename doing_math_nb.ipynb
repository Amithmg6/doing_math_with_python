{
 "cells": [
  {
   "cell_type": "markdown",
   "id": "6bbfb0a3",
   "metadata": {},
   "source": [
    "## Doing math with python"
   ]
  },
  {
   "cell_type": "markdown",
   "metadata": {},
   "source": [
    "http://www.nostarch.com/doingmathwithpython/"
   ]
  },
  {
   "cell_type": "markdown",
   "id": "f5277194",
   "metadata": {},
   "source": [
    "Libraries"
   ]
  },
  {
   "cell_type": "code",
   "execution_count": 1,
   "id": "6bcc5fd4",
   "metadata": {},
   "outputs": [],
   "source": [
    "import pandas as pd\n",
    "import os\n",
    "import sympy as sp\n"
   ]
  },
  {
   "cell_type": "code",
   "execution_count": 2,
   "id": "6ee6cb80",
   "metadata": {},
   "outputs": [
    {
     "name": "stdout",
     "output_type": "stream",
     "text": [
      "Requirement already satisfied: matplotlib-venn in c:\\users\\amith\\anaconda3\\lib\\site-packages (1.1.2)\n",
      "Requirement already satisfied: matplotlib in c:\\users\\amith\\anaconda3\\lib\\site-packages (from matplotlib-venn) (3.9.2)\n",
      "Requirement already satisfied: numpy in c:\\users\\amith\\anaconda3\\lib\\site-packages (from matplotlib-venn) (1.26.4)\n",
      "Requirement already satisfied: scipy in c:\\users\\amith\\anaconda3\\lib\\site-packages (from matplotlib-venn) (1.13.1)\n",
      "Requirement already satisfied: contourpy>=1.0.1 in c:\\users\\amith\\anaconda3\\lib\\site-packages (from matplotlib->matplotlib-venn) (1.2.0)\n",
      "Requirement already satisfied: cycler>=0.10 in c:\\users\\amith\\anaconda3\\lib\\site-packages (from matplotlib->matplotlib-venn) (0.11.0)\n",
      "Requirement already satisfied: fonttools>=4.22.0 in c:\\users\\amith\\anaconda3\\lib\\site-packages (from matplotlib->matplotlib-venn) (4.51.0)\n",
      "Requirement already satisfied: kiwisolver>=1.3.1 in c:\\users\\amith\\anaconda3\\lib\\site-packages (from matplotlib->matplotlib-venn) (1.4.4)\n",
      "Requirement already satisfied: packaging>=20.0 in c:\\users\\amith\\anaconda3\\lib\\site-packages (from matplotlib->matplotlib-venn) (24.1)\n",
      "Requirement already satisfied: pillow>=8 in c:\\users\\amith\\anaconda3\\lib\\site-packages (from matplotlib->matplotlib-venn) (10.4.0)\n",
      "Requirement already satisfied: pyparsing>=2.3.1 in c:\\users\\amith\\anaconda3\\lib\\site-packages (from matplotlib->matplotlib-venn) (3.1.2)\n",
      "Requirement already satisfied: python-dateutil>=2.7 in c:\\users\\amith\\anaconda3\\lib\\site-packages (from matplotlib->matplotlib-venn) (2.9.0.post0)\n",
      "Requirement already satisfied: six>=1.5 in c:\\users\\amith\\anaconda3\\lib\\site-packages (from python-dateutil>=2.7->matplotlib->matplotlib-venn) (1.16.0)\n"
     ]
    }
   ],
   "source": [
    "! pip install matplotlib-venn"
   ]
  },
  {
   "cell_type": "code",
   "execution_count": null,
   "id": "46bec513",
   "metadata": {},
   "outputs": [],
   "source": []
  },
  {
   "cell_type": "markdown",
   "id": "6388866e",
   "metadata": {},
   "source": [
    "### chapter 1"
   ]
  },
  {
   "cell_type": "code",
   "execution_count": 3,
   "id": "c7a80cf3",
   "metadata": {},
   "outputs": [
    {
     "data": {
      "text/plain": [
       "2"
      ]
     },
     "execution_count": 3,
     "metadata": {},
     "output_type": "execute_result"
    }
   ],
   "source": [
    "1+1"
   ]
  },
  {
   "cell_type": "code",
   "execution_count": 4,
   "id": "ffc3e48a",
   "metadata": {},
   "outputs": [
    {
     "data": {
      "text/plain": [
       "34.74315"
      ]
     },
     "execution_count": 4,
     "metadata": {},
     "output_type": "execute_result"
    }
   ],
   "source": [
    "89-54.25685"
   ]
  },
  {
   "cell_type": "code",
   "execution_count": 5,
   "id": "b2eaadd1",
   "metadata": {},
   "outputs": [
    {
     "data": {
      "text/plain": [
       "28925.106799999998"
      ]
     },
     "execution_count": 5,
     "metadata": {},
     "output_type": "execute_result"
    }
   ],
   "source": [
    "89*325.0012"
   ]
  },
  {
   "cell_type": "code",
   "execution_count": 6,
   "id": "107e07ae",
   "metadata": {},
   "outputs": [
    {
     "data": {
      "text/plain": [
       "3.0"
      ]
     },
     "execution_count": 6,
     "metadata": {},
     "output_type": "execute_result"
    }
   ],
   "source": [
    "9/3"
   ]
  },
  {
   "cell_type": "code",
   "execution_count": 7,
   "id": "99a9bc3c",
   "metadata": {},
   "outputs": [
    {
     "data": {
      "text/plain": [
       "0"
      ]
     },
     "execution_count": 7,
     "metadata": {},
     "output_type": "execute_result"
    }
   ],
   "source": [
    "9%3"
   ]
  },
  {
   "cell_type": "code",
   "execution_count": 8,
   "id": "f19aa93d",
   "metadata": {},
   "outputs": [
    {
     "data": {
      "text/plain": [
       "1"
      ]
     },
     "execution_count": 8,
     "metadata": {},
     "output_type": "execute_result"
    }
   ],
   "source": [
    "3//2"
   ]
  },
  {
   "cell_type": "code",
   "execution_count": 9,
   "id": "b016c54f",
   "metadata": {},
   "outputs": [
    {
     "data": {
      "text/plain": [
       "1.5"
      ]
     },
     "execution_count": 9,
     "metadata": {},
     "output_type": "execute_result"
    }
   ],
   "source": [
    "3/2"
   ]
  },
  {
   "cell_type": "code",
   "execution_count": 10,
   "id": "547d483a",
   "metadata": {},
   "outputs": [
    {
     "data": {
      "text/plain": [
       "1024"
      ]
     },
     "execution_count": 10,
     "metadata": {},
     "output_type": "execute_result"
    }
   ],
   "source": [
    "2 ** 10"
   ]
  },
  {
   "cell_type": "code",
   "execution_count": 11,
   "id": "3e4fa9c4",
   "metadata": {},
   "outputs": [
    {
     "data": {
      "text/plain": [
       "2.0"
      ]
     },
     "execution_count": 11,
     "metadata": {},
     "output_type": "execute_result"
    }
   ],
   "source": [
    "8 ** (1/3)"
   ]
  },
  {
   "cell_type": "markdown",
   "id": "5b1333b0",
   "metadata": {},
   "source": [
    "**PEMDAS**"
   ]
  },
  {
   "cell_type": "code",
   "execution_count": 12,
   "id": "1d925ef8",
   "metadata": {},
   "outputs": [
    {
     "data": {
      "text/plain": [
       "30"
      ]
     },
     "execution_count": 12,
     "metadata": {},
     "output_type": "execute_result"
    }
   ],
   "source": [
    "5+5*5"
   ]
  },
  {
   "cell_type": "code",
   "execution_count": 13,
   "id": "57c5b181",
   "metadata": {},
   "outputs": [
    {
     "data": {
      "text/plain": [
       "50"
      ]
     },
     "execution_count": 13,
     "metadata": {},
     "output_type": "execute_result"
    }
   ],
   "source": [
    "(5+5)*5"
   ]
  },
  {
   "cell_type": "markdown",
   "id": "3111f31f",
   "metadata": {},
   "source": [
    "Working with Fractions"
   ]
  },
  {
   "cell_type": "code",
   "execution_count": 14,
   "id": "71cb1c12",
   "metadata": {},
   "outputs": [],
   "source": [
    "from fractions import Fraction"
   ]
  },
  {
   "cell_type": "code",
   "execution_count": 15,
   "id": "c36b0773",
   "metadata": {},
   "outputs": [],
   "source": [
    "f = Fraction(3/4)"
   ]
  },
  {
   "cell_type": "code",
   "execution_count": 16,
   "id": "e039c7a8",
   "metadata": {},
   "outputs": [
    {
     "data": {
      "text/plain": [
       "Fraction(3, 4)"
      ]
     },
     "execution_count": 16,
     "metadata": {},
     "output_type": "execute_result"
    }
   ],
   "source": [
    "f"
   ]
  },
  {
   "cell_type": "code",
   "execution_count": 17,
   "id": "9ddc5af4",
   "metadata": {},
   "outputs": [
    {
     "data": {
      "text/plain": [
       "Fraction(2, 1)"
      ]
     },
     "execution_count": 17,
     "metadata": {},
     "output_type": "execute_result"
    }
   ],
   "source": [
    "Fraction(3, 4) + 1 + Fraction(1, 4)"
   ]
  },
  {
   "cell_type": "markdown",
   "id": "bb69b3c0",
   "metadata": {},
   "source": [
    "complex numbers"
   ]
  },
  {
   "cell_type": "code",
   "execution_count": 18,
   "id": "30f43d91",
   "metadata": {},
   "outputs": [],
   "source": [
    "# 2 + 3i\n",
    "\n",
    "a = 2 + 3j"
   ]
  },
  {
   "cell_type": "code",
   "execution_count": 19,
   "id": "8408e01a",
   "metadata": {},
   "outputs": [
    {
     "data": {
      "text/plain": [
       "complex"
      ]
     },
     "execution_count": 19,
     "metadata": {},
     "output_type": "execute_result"
    }
   ],
   "source": [
    "type(a)"
   ]
  },
  {
   "cell_type": "code",
   "execution_count": 20,
   "id": "dd53750a",
   "metadata": {},
   "outputs": [],
   "source": [
    "a = complex(2,3)"
   ]
  },
  {
   "cell_type": "code",
   "execution_count": 21,
   "id": "46744361",
   "metadata": {},
   "outputs": [
    {
     "data": {
      "text/plain": [
       "(2+3j)"
      ]
     },
     "execution_count": 21,
     "metadata": {},
     "output_type": "execute_result"
    }
   ],
   "source": [
    "a"
   ]
  },
  {
   "cell_type": "code",
   "execution_count": 22,
   "id": "4ea00200",
   "metadata": {},
   "outputs": [],
   "source": [
    "b = complex(3,3)"
   ]
  },
  {
   "cell_type": "code",
   "execution_count": 23,
   "id": "5506c962",
   "metadata": {},
   "outputs": [
    {
     "data": {
      "text/plain": [
       "(5+6j)"
      ]
     },
     "execution_count": 23,
     "metadata": {},
     "output_type": "execute_result"
    }
   ],
   "source": [
    "a+b"
   ]
  },
  {
   "cell_type": "code",
   "execution_count": 24,
   "id": "13b2814c",
   "metadata": {},
   "outputs": [
    {
     "data": {
      "text/plain": [
       "(-1+0j)"
      ]
     },
     "execution_count": 24,
     "metadata": {},
     "output_type": "execute_result"
    }
   ],
   "source": [
    "a-b"
   ]
  },
  {
   "cell_type": "code",
   "execution_count": 25,
   "id": "62b03b2a",
   "metadata": {},
   "outputs": [
    {
     "data": {
      "text/plain": [
       "(-3+15j)"
      ]
     },
     "execution_count": 25,
     "metadata": {},
     "output_type": "execute_result"
    }
   ],
   "source": [
    "a*b"
   ]
  },
  {
   "cell_type": "code",
   "execution_count": 26,
   "id": "cd08fbae",
   "metadata": {},
   "outputs": [
    {
     "data": {
      "text/plain": [
       "(0.8333333333333334+0.16666666666666666j)"
      ]
     },
     "execution_count": 26,
     "metadata": {},
     "output_type": "execute_result"
    }
   ],
   "source": [
    "a/b"
   ]
  },
  {
   "cell_type": "code",
   "execution_count": 27,
   "id": "46361726",
   "metadata": {},
   "outputs": [
    {
     "data": {
      "text/plain": [
       "2.0"
      ]
     },
     "execution_count": 27,
     "metadata": {},
     "output_type": "execute_result"
    }
   ],
   "source": [
    "a.real"
   ]
  },
  {
   "cell_type": "code",
   "execution_count": 28,
   "id": "23980299",
   "metadata": {},
   "outputs": [
    {
     "data": {
      "text/plain": [
       "3.0"
      ]
     },
     "execution_count": 28,
     "metadata": {},
     "output_type": "execute_result"
    }
   ],
   "source": [
    "b.imag"
   ]
  },
  {
   "cell_type": "code",
   "execution_count": 29,
   "id": "1f2de4fa",
   "metadata": {},
   "outputs": [
    {
     "data": {
      "text/plain": [
       "(2-3j)"
      ]
     },
     "execution_count": 29,
     "metadata": {},
     "output_type": "execute_result"
    }
   ],
   "source": [
    "a.conjugate()"
   ]
  },
  {
   "cell_type": "code",
   "execution_count": 30,
   "id": "d52e8180",
   "metadata": {},
   "outputs": [
    {
     "data": {
      "text/plain": [
       "(2+3j)"
      ]
     },
     "execution_count": 30,
     "metadata": {},
     "output_type": "execute_result"
    }
   ],
   "source": [
    "a"
   ]
  },
  {
   "cell_type": "code",
   "execution_count": 31,
   "id": "0d1adb36",
   "metadata": {},
   "outputs": [
    {
     "data": {
      "text/plain": [
       "3.605551275463989"
      ]
     },
     "execution_count": 31,
     "metadata": {},
     "output_type": "execute_result"
    }
   ],
   "source": [
    "(a.real ** 2 + a.imag **2) ** 0.5 # magnitude"
   ]
  },
  {
   "cell_type": "code",
   "execution_count": 32,
   "id": "1013c429",
   "metadata": {},
   "outputs": [],
   "source": [
    "from math import sqrt"
   ]
  },
  {
   "cell_type": "code",
   "execution_count": 33,
   "id": "bd09b33e",
   "metadata": {},
   "outputs": [
    {
     "data": {
      "text/plain": [
       "3.605551275463989"
      ]
     },
     "execution_count": 33,
     "metadata": {},
     "output_type": "execute_result"
    }
   ],
   "source": [
    "sqrt(a.real ** 2 + a.imag **2)"
   ]
  },
  {
   "cell_type": "code",
   "execution_count": 34,
   "id": "fe7ae367",
   "metadata": {},
   "outputs": [
    {
     "data": {
      "text/plain": [
       "4.242640687119285"
      ]
     },
     "execution_count": 34,
     "metadata": {},
     "output_type": "execute_result"
    }
   ],
   "source": [
    "abs(b)"
   ]
  },
  {
   "cell_type": "markdown",
   "id": "f879c337",
   "metadata": {},
   "source": [
    "**cmath module for complex math**"
   ]
  },
  {
   "cell_type": "markdown",
   "id": "ca96d49e",
   "metadata": {},
   "source": [
    "###  writing Programs that Do the Math for you"
   ]
  },
  {
   "cell_type": "markdown",
   "id": "a36e65bd",
   "metadata": {},
   "source": []
  },
  {
   "cell_type": "code",
   "execution_count": 35,
   "id": "f92a9cb5",
   "metadata": {},
   "outputs": [],
   "source": [
    "def is_factor(a, b):\n",
    "    if b%a == 0:\n",
    "        return True\n",
    "    else:\n",
    "        return False"
   ]
  },
  {
   "cell_type": "code",
   "execution_count": 36,
   "id": "fca48f72",
   "metadata": {},
   "outputs": [
    {
     "data": {
      "text/plain": [
       "False"
      ]
     },
     "execution_count": 36,
     "metadata": {},
     "output_type": "execute_result"
    }
   ],
   "source": [
    "is_factor(8,2)"
   ]
  },
  {
   "cell_type": "code",
   "execution_count": 37,
   "id": "f6775916",
   "metadata": {},
   "outputs": [
    {
     "data": {
      "text/plain": [
       "True"
      ]
     },
     "execution_count": 37,
     "metadata": {},
     "output_type": "execute_result"
    }
   ],
   "source": [
    "is_factor(3,27)"
   ]
  },
  {
   "cell_type": "code",
   "execution_count": 38,
   "id": "4dda9dfc",
   "metadata": {},
   "outputs": [],
   "source": [
    "item1 = 'apple'\n",
    "item2 = 'banana'\n",
    "item3 = 'cherry'"
   ]
  },
  {
   "cell_type": "code",
   "execution_count": 39,
   "id": "45856334",
   "metadata": {},
   "outputs": [
    {
     "name": "stdout",
     "output_type": "stream",
     "text": [
      "Al ate these fruits apple,banana and cherry and fell sick after a day\n"
     ]
    }
   ],
   "source": [
    "print('Al ate these fruits {0},{1} and {2} and fell sick after a day'.format(item1, item2, item3))"
   ]
  },
  {
   "cell_type": "markdown",
   "id": "1dac4859",
   "metadata": {},
   "source": [
    "## multiplication printer"
   ]
  },
  {
   "cell_type": "code",
   "execution_count": 40,
   "id": "cd2855ef",
   "metadata": {},
   "outputs": [
    {
     "name": "stdout",
     "output_type": "stream",
     "text": [
      "59.0 x 1 = 59.0\n",
      "59.0 x 2 = 118.0\n",
      "59.0 x 3 = 177.0\n",
      "59.0 x 4 = 236.0\n",
      "59.0 x 5 = 295.0\n",
      "59.0 x 6 = 354.0\n",
      "59.0 x 7 = 413.0\n",
      "59.0 x 8 = 472.0\n",
      "59.0 x 9 = 531.0\n",
      "59.0 x 10 = 590.0\n"
     ]
    }
   ],
   "source": [
    "def multiplication_printer(a):\n",
    "    for i in range(1, 11):\n",
    "        print('{0} x {1} = {2}'.format(a, i, a*i))\n",
    "\n",
    "if __name__ == '__main__':\n",
    "    a = int(input('Enter a number to print its multiplication table: '))\n",
    "    multiplication_printer(float(a))"
   ]
  },
  {
   "cell_type": "markdown",
   "id": "4faa362e",
   "metadata": {},
   "source": [
    "### converting units of measurements"
   ]
  },
  {
   "cell_type": "code",
   "execution_count": 41,
   "id": "00a947d2",
   "metadata": {},
   "outputs": [],
   "source": [
    "# farenheit to celsius\n",
    "F = 98.6"
   ]
  },
  {
   "cell_type": "code",
   "execution_count": 42,
   "id": "2d999b26",
   "metadata": {},
   "outputs": [
    {
     "data": {
      "text/plain": [
       "37.0"
      ]
     },
     "execution_count": 42,
     "metadata": {},
     "output_type": "execute_result"
    }
   ],
   "source": [
    "(F - 32)*(5/9)"
   ]
  },
  {
   "cell_type": "code",
   "execution_count": 43,
   "id": "5e17ff31",
   "metadata": {},
   "outputs": [],
   "source": [
    "# celcius to farenheit\n",
    "c = 28"
   ]
  },
  {
   "cell_type": "code",
   "execution_count": 44,
   "id": "89d244ce",
   "metadata": {},
   "outputs": [
    {
     "data": {
      "text/plain": [
       "82.4"
      ]
     },
     "execution_count": 44,
     "metadata": {},
     "output_type": "execute_result"
    }
   ],
   "source": [
    "c*(9/5)+32"
   ]
  },
  {
   "cell_type": "code",
   "execution_count": 45,
   "id": "3ed6f7e8",
   "metadata": {},
   "outputs": [],
   "source": [
    "## miles and kilometers"
   ]
  },
  {
   "cell_type": "code",
   "execution_count": 46,
   "id": "49bd5c69",
   "metadata": {},
   "outputs": [],
   "source": [
    "def print_menu():\n",
    "    print('1. Convert kilometers to miles')\n",
    "    print('2. Convert miles to kilometers')"
   ]
  },
  {
   "cell_type": "code",
   "execution_count": 47,
   "id": "beeb1b86",
   "metadata": {},
   "outputs": [],
   "source": [
    "def km_2_miles():\n",
    "    km = float(input('Enter distance in kilometers: '))\n",
    "    miles = km / 1.609\n",
    "\n"
   ]
  },
  {
   "cell_type": "code",
   "execution_count": 48,
   "id": "d08dda51",
   "metadata": {},
   "outputs": [],
   "source": [
    "def miles_2_km():\n",
    "    miles = float(input('Enter distance in miles: '))\n",
    "    km = miles * 1.609"
   ]
  },
  {
   "cell_type": "code",
   "execution_count": 49,
   "id": "69444fea",
   "metadata": {},
   "outputs": [
    {
     "name": "stdout",
     "output_type": "stream",
     "text": [
      "1. Convert kilometers to miles\n",
      "2. Convert miles to kilometers\n"
     ]
    }
   ],
   "source": [
    "if __name__ == '__main__':\n",
    "    print_menu()\n",
    "    choice = int(input('which conversion would you like to do?: '))\n",
    "    if choice == '1':\n",
    "        km_2_miles()\n",
    "    \n",
    "    if choice == '2':\n",
    "        miles_2_km()\n",
    "    "
   ]
  },
  {
   "cell_type": "code",
   "execution_count": null,
   "id": "50f71d02",
   "metadata": {},
   "outputs": [],
   "source": []
  },
  {
   "cell_type": "code",
   "execution_count": null,
   "id": "f85319d9",
   "metadata": {},
   "outputs": [
    {
     "name": "stdout",
     "output_type": "stream",
     "text": [
      "1. Convert kilometers to miles\n",
      "2. Convert miles to kilometers\n"
     ]
    }
   ],
   "source": [
    "## miles and kilometers\n",
    "def print_menu():\n",
    "    print('1. Convert kilometers to miles')\n",
    "    print('2. Convert miles to kilometers')\n",
    "\n",
    "def km_2_miles():\n",
    "    km = float(input('Enter distance in kilometers: '))\n",
    "    miles = km / 1.609\n",
    "\n",
    "    print('Distance in miles: {0}'.format(miles))\n",
    "\n",
    "def miles_2_km():\n",
    "    miles = float(input('Enter distance in miles: '))\n",
    "    km = miles * 1.609\n",
    "\n",
    "    print('Distance in kilometers: {0}'.format(km))\n",
    "\n",
    "if __name__ == '__main__':\n",
    "    print_menu()\n",
    "    choice = int(input('which conversion would you like to do?: '))\n",
    "    if choice == 1:\n",
    "        km_2_miles()\n",
    "    \n",
    "    if choice == 2:\n",
    "        miles_2_km()\n",
    "    "
   ]
  },
  {
   "cell_type": "markdown",
   "id": "94a52e98",
   "metadata": {},
   "source": [
    "### roots of a quadratic equations"
   ]
  },
  {
   "cell_type": "code",
   "execution_count": 53,
   "id": "4f88dc4c",
   "metadata": {},
   "outputs": [],
   "source": [
    "x=10-500+79"
   ]
  },
  {
   "cell_type": "code",
   "execution_count": 54,
   "id": "78c16980",
   "metadata": {},
   "outputs": [
    {
     "data": {
      "text/plain": [
       "-411"
      ]
     },
     "execution_count": 54,
     "metadata": {},
     "output_type": "execute_result"
    }
   ],
   "source": [
    "x"
   ]
  },
  {
   "cell_type": "code",
   "execution_count": 55,
   "id": "9ffca9e1",
   "metadata": {},
   "outputs": [],
   "source": [
    "# x ** 2 + 2x +1 = 0\n",
    "\n",
    "# has 2 roots and 3 constants\n",
    "\n",
    "a=1 \n",
    "b=2 \n",
    "c=1"
   ]
  },
  {
   "cell_type": "code",
   "execution_count": 56,
   "id": "fed04045",
   "metadata": {},
   "outputs": [],
   "source": [
    "D = sqrt(b**2 - 4*a*c)**0.5"
   ]
  },
  {
   "cell_type": "code",
   "execution_count": 57,
   "id": "5908c340",
   "metadata": {},
   "outputs": [],
   "source": [
    "x_1 = (-b + D)/(2*a)\n",
    "x_2 = (-b - D)/(2*a)"
   ]
  },
  {
   "cell_type": "code",
   "execution_count": 61,
   "id": "1f08195a",
   "metadata": {},
   "outputs": [
    {
     "name": "stdout",
     "output_type": "stream",
     "text": [
      "The roots of the equation are -1.0 and -1.0\n"
     ]
    }
   ],
   "source": [
    "print('The roots of the equation are {0} and {1}'.format(x_1, x_2))"
   ]
  },
  {
   "cell_type": "code",
   "execution_count": 62,
   "id": "91abaedf",
   "metadata": {},
   "outputs": [],
   "source": [
    "def find_roots(a,b,c):\n",
    "    \n",
    "    D = sqrt(b**2-4*a*c)\n",
    "    x_1 = (-b+D)/(2*a)\n",
    "    x_2 = (-b-D)/(2*a)\n",
    "\n",
    "    print('The roots of the quadratic equation are {1} and {2}'.format(x_1, x_2))"
   ]
  },
  {
   "cell_type": "code",
   "execution_count": null,
   "id": "f70e170a",
   "metadata": {},
   "outputs": [],
   "source": [
    "if __name__ == '__main__':\n",
    "    a = int(input('Enter a: '))\n",
    "    b = int(input('Enter b: '))\n",
    "    c = int(input('Enter c: '))\n",
    "    find_roots(float(a), float(b), float(c))"
   ]
  },
  {
   "cell_type": "markdown",
   "id": "8ab98418",
   "metadata": {},
   "source": [
    "## Chapter 2"
   ]
  },
  {
   "cell_type": "markdown",
   "id": "0999c263",
   "metadata": {},
   "source": [
    "Graphs coordinates"
   ]
  },
  {
   "cell_type": "markdown",
   "id": "5f9cd8ce",
   "metadata": {},
   "source": []
  },
  {
   "cell_type": "code",
   "execution_count": 63,
   "id": "8c359003",
   "metadata": {},
   "outputs": [],
   "source": [
    "simplelist = [1, 2, 3, 4, 5]"
   ]
  },
  {
   "cell_type": "code",
   "execution_count": 64,
   "id": "54838fab",
   "metadata": {},
   "outputs": [
    {
     "data": {
      "text/plain": [
       "1"
      ]
     },
     "execution_count": 64,
     "metadata": {},
     "output_type": "execute_result"
    }
   ],
   "source": [
    "simplelist[0]"
   ]
  },
  {
   "cell_type": "code",
   "execution_count": 65,
   "id": "03b02fbd",
   "metadata": {},
   "outputs": [
    {
     "data": {
      "text/plain": [
       "2"
      ]
     },
     "execution_count": 65,
     "metadata": {},
     "output_type": "execute_result"
    }
   ],
   "source": [
    "simplelist[1]"
   ]
  },
  {
   "cell_type": "code",
   "execution_count": 66,
   "id": "bb65ba6d",
   "metadata": {},
   "outputs": [],
   "source": [
    "stringlist = ['apple', 'banana', 'cherry']"
   ]
  },
  {
   "cell_type": "code",
   "execution_count": 67,
   "id": "0a5226dd",
   "metadata": {},
   "outputs": [
    {
     "data": {
      "text/plain": [
       "'apple'"
      ]
     },
     "execution_count": 67,
     "metadata": {},
     "output_type": "execute_result"
    }
   ],
   "source": [
    "stringlist[0]"
   ]
  },
  {
   "cell_type": "code",
   "execution_count": 68,
   "id": "1ae5d7d2",
   "metadata": {},
   "outputs": [
    {
     "data": {
      "text/plain": [
       "['apple']"
      ]
     },
     "execution_count": 68,
     "metadata": {},
     "output_type": "execute_result"
    }
   ],
   "source": [
    "stringlist[:1]"
   ]
  },
  {
   "cell_type": "code",
   "execution_count": 69,
   "id": "d1a8be12",
   "metadata": {},
   "outputs": [
    {
     "data": {
      "text/plain": [
       "['banana', 'cherry']"
      ]
     },
     "execution_count": 69,
     "metadata": {},
     "output_type": "execute_result"
    }
   ],
   "source": [
    "stringlist[1:]"
   ]
  },
  {
   "cell_type": "code",
   "execution_count": 70,
   "id": "90d85caa",
   "metadata": {},
   "outputs": [],
   "source": [
    "emptylist = []"
   ]
  },
  {
   "cell_type": "code",
   "execution_count": 71,
   "id": "1b91e2ff",
   "metadata": {},
   "outputs": [],
   "source": [
    "emptylist.append('Amith')"
   ]
  },
  {
   "cell_type": "code",
   "execution_count": 72,
   "id": "8c09262f",
   "metadata": {},
   "outputs": [
    {
     "data": {
      "text/plain": [
       "['Amith']"
      ]
     },
     "execution_count": 72,
     "metadata": {},
     "output_type": "execute_result"
    }
   ],
   "source": [
    "emptylist"
   ]
  },
  {
   "cell_type": "code",
   "execution_count": 73,
   "id": "00371f3a",
   "metadata": {},
   "outputs": [],
   "source": [
    "simpltuple = (1, 2, 3, 4, 5)"
   ]
  },
  {
   "cell_type": "code",
   "execution_count": 74,
   "id": "2b5e850c",
   "metadata": {},
   "outputs": [
    {
     "data": {
      "text/plain": [
       "2"
      ]
     },
     "execution_count": 74,
     "metadata": {},
     "output_type": "execute_result"
    }
   ],
   "source": [
    "simpltuple[1]"
   ]
  },
  {
   "cell_type": "code",
   "execution_count": 75,
   "id": "1de96e0a",
   "metadata": {},
   "outputs": [],
   "source": [
    "l = [1,2,3]"
   ]
  },
  {
   "cell_type": "code",
   "execution_count": 76,
   "id": "fcc57e65",
   "metadata": {},
   "outputs": [
    {
     "name": "stdout",
     "output_type": "stream",
     "text": [
      "[1, 2, 3]\n",
      "[1, 2, 3]\n",
      "[1, 2, 3]\n"
     ]
    }
   ],
   "source": [
    "for value in l:\n",
    "    print(l)"
   ]
  },
  {
   "cell_type": "code",
   "execution_count": 77,
   "id": "983096ba",
   "metadata": {},
   "outputs": [
    {
     "name": "stdout",
     "output_type": "stream",
     "text": [
      "1\n",
      "2\n",
      "3\n"
     ]
    }
   ],
   "source": [
    "for value in l:\n",
    "    print(value)"
   ]
  },
  {
   "cell_type": "code",
   "execution_count": 78,
   "id": "a4bd0044",
   "metadata": {},
   "outputs": [
    {
     "name": "stdout",
     "output_type": "stream",
     "text": [
      "0 1\n",
      "1 2\n",
      "2 3\n"
     ]
    }
   ],
   "source": [
    "for index, item in enumerate(l):\n",
    "    print(index, item)"
   ]
  },
  {
   "cell_type": "code",
   "execution_count": 79,
   "id": "3271873c",
   "metadata": {},
   "outputs": [],
   "source": [
    "x_num = [1,2,3,4]\n",
    "y_num = [2,3,1,5]"
   ]
  },
  {
   "cell_type": "code",
   "execution_count": 80,
   "id": "d5ee8602",
   "metadata": {},
   "outputs": [],
   "source": [
    "from pylab import plot, show"
   ]
  },
  {
   "cell_type": "code",
   "execution_count": 83,
   "id": "8d6d83d6",
   "metadata": {},
   "outputs": [
    {
     "data": {
      "image/png": "[encoded data removed]",
      "text/plain": [
       "<Figure size 640x480 with 1 Axes>"
      ]
     },
     "metadata": {},
     "output_type": "display_data"
    }
   ],
   "source": [
    "plot(x_num, y_num)\n",
    "show()"
   ]
  },
  {
   "cell_type": "code",
   "execution_count": 84,
   "id": "08b23bb1",
   "metadata": {},
   "outputs": [
    {
     "data": {
      "text/plain": [
       "[<matplotlib.lines.Line2D at 0x2b4570b5550>]"
      ]
     },
     "execution_count": 84,
     "metadata": {},
     "output_type": "execute_result"
    },
    {
     "data": {
      "image/png": "[encoded data removed]",
      "text/plain": [
       "<Figure size 640x480 with 1 Axes>"
      ]
     },
     "metadata": {},
     "output_type": "display_data"
    }
   ],
   "source": [
    "plot(x_num, y_num, marker='o')"
   ]
  },
  {
   "cell_type": "code",
   "execution_count": 85,
   "id": "46a290d3",
   "metadata": {},
   "outputs": [
    {
     "data": {
      "text/plain": [
       "[<matplotlib.lines.Line2D at 0x2b456849b80>]"
      ]
     },
     "execution_count": 85,
     "metadata": {},
     "output_type": "execute_result"
    },
    {
     "data": {
      "image/png": "[encoded data removed]",
      "text/plain": [
       "<Figure size 640x480 with 1 Axes>"
      ]
     },
     "metadata": {},
     "output_type": "display_data"
    }
   ],
   "source": [
    "plot(x_num,y_num,'*')"
   ]
  },
  {
   "cell_type": "markdown",
   "id": "1c625904",
   "metadata": {},
   "source": [
    "### teamperature plotting"
   ]
  },
  {
   "cell_type": "code",
   "execution_count": 86,
   "id": "a7af78d6",
   "metadata": {},
   "outputs": [],
   "source": [
    "nyc_temp = [53.9, 56.3, 56.4, 53.4, 54.5, 55.8, 56.8, 55.0, 55.3, 54.0, 56.7, 56.4, 57.3]"
   ]
  },
  {
   "cell_type": "code",
   "execution_count": 87,
   "id": "347a4deb",
   "metadata": {},
   "outputs": [
    {
     "data": {
      "text/plain": [
       "[<matplotlib.lines.Line2D at 0x2b4567c92b0>]"
      ]
     },
     "execution_count": 87,
     "metadata": {},
     "output_type": "execute_result"
    },
    {
     "data": {
      "image/png": "[encoded data removed]",
      "text/plain": [
       "<Figure size 640x480 with 1 Axes>"
      ]
     },
     "metadata": {},
     "output_type": "display_data"
    }
   ],
   "source": [
    "plot(nyc_temp, marker='o')"
   ]
  },
  {
   "cell_type": "code",
   "execution_count": 88,
   "id": "ce79a6e8",
   "metadata": {},
   "outputs": [
    {
     "data": {
      "image/png": "[encoded data removed]",
      "text/plain": [
       "<Figure size 640x480 with 1 Axes>"
      ]
     },
     "metadata": {},
     "output_type": "display_data"
    }
   ],
   "source": [
    "nyc_temp = [53.9, 56.3, 56.4, 53.4, 54.5, 55.8, 56.8, 55.0, 55.3, 54.0, 56.7, 56.4, 57.3]\n",
    "years = range(2000,2013)\n",
    "plot(years,nyc_temp, marker='o')\n",
    "show()"
   ]
  },
  {
   "cell_type": "markdown",
   "id": "eeb11090",
   "metadata": {},
   "source": [
    "### comparing trends"
   ]
  },
  {
   "cell_type": "code",
   "execution_count": 89,
   "id": "fb26fbaf",
   "metadata": {},
   "outputs": [],
   "source": [
    "nyc_temp_2000 = [31.3, 37.3, 47.2, 51.0, 63.5, 71.3, 72.3, 72.7, 66.0, 57.0, 45.3, 31.1]\n",
    "nyc_temp_2006 = [40.9, 35.7, 43.1, 55.7, 63.1, 71.0, 77.9, 75.8, 66.6, 56.2, 51.9, 43.6]\n",
    "nyc_temp_2012 = [37.3, 40.9, 50.9, 54.8, 65.1, 71.0, 78.8, 76.7, 68.8, 58.0, 43.9, 41.5]"
   ]
  },
  {
   "cell_type": "code",
   "execution_count": 96,
   "id": "5311a718",
   "metadata": {},
   "outputs": [],
   "source": [
    "from pylab import legend"
   ]
  },
  {
   "cell_type": "code",
   "execution_count": 100,
   "id": "b93ede40",
   "metadata": {},
   "outputs": [
    {
     "ename": "TypeError",
     "evalue": "'function' object is not subscriptable",
     "output_type": "error",
     "traceback": [
      "\u001b[1;31m---------------------------------------------------------------------------\u001b[0m",
      "\u001b[1;31mTypeError\u001b[0m                                 Traceback (most recent call last)",
      "Cell \u001b[1;32mIn[100], line 3\u001b[0m\n\u001b[0;32m      1\u001b[0m months \u001b[38;5;241m=\u001b[39m \u001b[38;5;28mrange\u001b[39m(\u001b[38;5;241m1\u001b[39m,\u001b[38;5;241m13\u001b[39m)\n\u001b[0;32m      2\u001b[0m legend([\u001b[38;5;241m2000\u001b[39m,\u001b[38;5;241m2006\u001b[39m,\u001b[38;5;241m2012\u001b[39m])\n\u001b[1;32m----> 3\u001b[0m plot(months,nyc_temp_2000,legend[\u001b[38;5;241m0\u001b[39m],months,nyc_temp_2006,legend[\u001b[38;5;241m1\u001b[39m],months,nyc_temp_2012,leged[\u001b[38;5;241m2\u001b[39m], marker\u001b[38;5;241m=\u001b[39m\u001b[38;5;124m'\u001b[39m\u001b[38;5;124mo\u001b[39m\u001b[38;5;124m'\u001b[39m)\n\u001b[0;32m      4\u001b[0m show()\n",
      "\u001b[1;31mTypeError\u001b[0m: 'function' object is not subscriptable"
     ]
    },
    {
     "data": {
      "image/png": "[encoded data removed]",
      "text/plain": [
       "<Figure size 640x480 with 1 Axes>"
      ]
     },
     "metadata": {},
     "output_type": "display_data"
    }
   ],
   "source": [
    "months = range(1,13)\n",
    "legend([2000,2006,2012])\n",
    "plot(months,nyc_temp_2000,legend[0],months,nyc_temp_2006,legend[1],months,nyc_temp_2012,leged[2], marker='o')\n",
    "show()"
   ]
  },
  {
   "cell_type": "code",
   "execution_count": null,
   "id": "7a59cc33",
   "metadata": {},
   "outputs": [
    {
     "data": {
      "text/plain": [
       "<matplotlib.legend.Legend at 0x2b4572324e0>"
      ]
     },
     "execution_count": 92,
     "metadata": {},
     "output_type": "execute_result"
    },
    {
     "data": {
      "image/png": "[encoded data removed]",
      "text/plain": [
       "<Figure size 640x480 with 1 Axes>"
      ]
     },
     "metadata": {},
     "output_type": "display_data"
    }
   ],
   "source": []
  },
  {
   "cell_type": "code",
   "execution_count": 93,
   "id": "42c598e5",
   "metadata": {},
   "outputs": [],
   "source": [
    "show()"
   ]
  },
  {
   "cell_type": "code",
   "execution_count": null,
   "id": "3887f172",
   "metadata": {},
   "outputs": [],
   "source": []
  }
 ],
 "metadata": {
  "kernelspec": {
   "display_name": "base",
   "language": "python",
   "name": "python3"
  },
  "language_info": {
   "codemirror_mode": {
    "name": "ipython",
    "version": 3
   },
   "file_extension": ".py",
   "mimetype": "text/x-python",
   "name": "python",
   "nbconvert_exporter": "python",
   "pygments_lexer": "ipython3",
   "version": "3.12.7"
  }
 },
 "nbformat": 4,
 "nbformat_minor": 5
}
