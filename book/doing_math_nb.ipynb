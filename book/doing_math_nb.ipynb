{
 "cells": [
  {
   "cell_type": "markdown",
   "id": "6bbfb0a3",
   "metadata": {},
   "source": [
    "## Doing math with python"
   ]
  },
  {
   "cell_type": "markdown",
   "metadata": {},
   "source": [
    "http://www.nostarch.com/doingmathwithpython/"
   ]
  },
  {
   "cell_type": "markdown",
   "id": "f5277194",
   "metadata": {},
   "source": [
    "Libraries"
   ]
  },
  {
   "cell_type": "code",
   "execution_count": 1,
   "id": "6bcc5fd4",
   "metadata": {},
   "outputs": [],
   "source": [
    "import pandas as pd\n",
    "import os\n",
    "import sympy as sp\n"
   ]
  },
  {
   "cell_type": "code",
   "execution_count": 2,
   "id": "6ee6cb80",
   "metadata": {},
   "outputs": [
    {
     "name": "stdout",
     "output_type": "stream",
     "text": [
      "Collecting matplotlib-venn\n",
      "  Downloading matplotlib-venn-1.1.2.tar.gz (40 kB)\n",
      "  Installing build dependencies: started\n",
      "  Installing build dependencies: finished with status 'done'\n",
      "  Getting requirements to build wheel: started\n",
      "  Getting requirements to build wheel: finished with status 'done'\n",
      "  Preparing metadata (pyproject.toml): started\n",
      "  Preparing metadata (pyproject.toml): finished with status 'done'\n",
      "Requirement already satisfied: matplotlib in c:\\users\\amith\\anaconda3\\lib\\site-packages (from matplotlib-venn) (3.9.2)\n",
      "Requirement already satisfied: numpy in c:\\users\\amith\\anaconda3\\lib\\site-packages (from matplotlib-venn) (1.26.4)\n",
      "Requirement already satisfied: scipy in c:\\users\\amith\\anaconda3\\lib\\site-packages (from matplotlib-venn) (1.13.1)\n",
      "Requirement already satisfied: contourpy>=1.0.1 in c:\\users\\amith\\anaconda3\\lib\\site-packages (from matplotlib->matplotlib-venn) (1.2.0)\n",
      "Requirement already satisfied: cycler>=0.10 in c:\\users\\amith\\anaconda3\\lib\\site-packages (from matplotlib->matplotlib-venn) (0.11.0)\n",
      "Requirement already satisfied: fonttools>=4.22.0 in c:\\users\\amith\\anaconda3\\lib\\site-packages (from matplotlib->matplotlib-venn) (4.51.0)\n",
      "Requirement already satisfied: kiwisolver>=1.3.1 in c:\\users\\amith\\anaconda3\\lib\\site-packages (from matplotlib->matplotlib-venn) (1.4.4)\n",
      "Requirement already satisfied: packaging>=20.0 in c:\\users\\amith\\anaconda3\\lib\\site-packages (from matplotlib->matplotlib-venn) (24.1)\n",
      "Requirement already satisfied: pillow>=8 in c:\\users\\amith\\anaconda3\\lib\\site-packages (from matplotlib->matplotlib-venn) (10.4.0)\n",
      "Requirement already satisfied: pyparsing>=2.3.1 in c:\\users\\amith\\anaconda3\\lib\\site-packages (from matplotlib->matplotlib-venn) (3.1.2)\n",
      "Requirement already satisfied: python-dateutil>=2.7 in c:\\users\\amith\\anaconda3\\lib\\site-packages (from matplotlib->matplotlib-venn) (2.9.0.post0)\n",
      "Requirement already satisfied: six>=1.5 in c:\\users\\amith\\anaconda3\\lib\\site-packages (from python-dateutil>=2.7->matplotlib->matplotlib-venn) (1.16.0)\n",
      "Building wheels for collected packages: matplotlib-venn\n",
      "  Building wheel for matplotlib-venn (pyproject.toml): started\n",
      "  Building wheel for matplotlib-venn (pyproject.toml): finished with status 'done'\n",
      "  Created wheel for matplotlib-venn: filename=matplotlib_venn-1.1.2-py3-none-any.whl size=45437 sha256=39b5e3a77f502915fed26d320b7a42f99f28feef2f0605e3d43c087cb5612c24\n",
      "  Stored in directory: c:\\users\\amith\\appdata\\local\\pip\\cache\\wheels\\c2\\47\\0c\\f014c55a1cfd56dce41a1cafd23e3c590652b5e71330cc181c\n",
      "Successfully built matplotlib-venn\n",
      "Installing collected packages: matplotlib-venn\n",
      "Successfully installed matplotlib-venn-1.1.2\n"
     ]
    }
   ],
   "source": [
    "! pip install matplotlib-venn"
   ]
  },
  {
   "cell_type": "code",
   "execution_count": null,
   "id": "46bec513",
   "metadata": {},
   "outputs": [],
   "source": []
  },
  {
   "cell_type": "markdown",
   "id": "6388866e",
   "metadata": {},
   "source": [
    "### chapter 1"
   ]
  },
  {
   "cell_type": "code",
   "execution_count": 3,
   "id": "c7a80cf3",
   "metadata": {},
   "outputs": [
    {
     "data": {
      "text/plain": [
       "2"
      ]
     },
     "execution_count": 3,
     "metadata": {},
     "output_type": "execute_result"
    }
   ],
   "source": [
    "1+1"
   ]
  },
  {
   "cell_type": "code",
   "execution_count": 4,
   "id": "ffc3e48a",
   "metadata": {},
   "outputs": [
    {
     "data": {
      "text/plain": [
       "34.74315"
      ]
     },
     "execution_count": 4,
     "metadata": {},
     "output_type": "execute_result"
    }
   ],
   "source": [
    "89-54.25685"
   ]
  },
  {
   "cell_type": "code",
   "execution_count": 5,
   "id": "b2eaadd1",
   "metadata": {},
   "outputs": [
    {
     "data": {
      "text/plain": [
       "28925.106799999998"
      ]
     },
     "execution_count": 5,
     "metadata": {},
     "output_type": "execute_result"
    }
   ],
   "source": [
    "89*325.0012"
   ]
  },
  {
   "cell_type": "code",
   "execution_count": 6,
   "id": "107e07ae",
   "metadata": {},
   "outputs": [
    {
     "data": {
      "text/plain": [
       "3.0"
      ]
     },
     "execution_count": 6,
     "metadata": {},
     "output_type": "execute_result"
    }
   ],
   "source": [
    "9/3"
   ]
  },
  {
   "cell_type": "code",
   "execution_count": 7,
   "id": "99a9bc3c",
   "metadata": {},
   "outputs": [
    {
     "data": {
      "text/plain": [
       "0"
      ]
     },
     "execution_count": 7,
     "metadata": {},
     "output_type": "execute_result"
    }
   ],
   "source": [
    "9%3"
   ]
  },
  {
   "cell_type": "code",
   "execution_count": 9,
   "id": "f19aa93d",
   "metadata": {},
   "outputs": [
    {
     "data": {
      "text/plain": [
       "1"
      ]
     },
     "execution_count": 9,
     "metadata": {},
     "output_type": "execute_result"
    }
   ],
   "source": [
    "3//2"
   ]
  },
  {
   "cell_type": "code",
   "execution_count": 10,
   "id": "b016c54f",
   "metadata": {},
   "outputs": [
    {
     "data": {
      "text/plain": [
       "1.5"
      ]
     },
     "execution_count": 10,
     "metadata": {},
     "output_type": "execute_result"
    }
   ],
   "source": [
    "3/2"
   ]
  },
  {
   "cell_type": "code",
   "execution_count": null,
   "id": "547d483a",
   "metadata": {},
   "outputs": [],
   "source": []
  }
 ],
 "metadata": {
  "kernelspec": {
   "display_name": "base",
   "language": "python",
   "name": "python3"
  },
  "language_info": {
   "codemirror_mode": {
    "name": "ipython",
    "version": 3
   },
   "file_extension": ".py",
   "mimetype": "text/x-python",
   "name": "python",
   "nbconvert_exporter": "python",
   "pygments_lexer": "ipython3",
   "version": "3.12.7"
  }
 },
 "nbformat": 4,
 "nbformat_minor": 5
}
